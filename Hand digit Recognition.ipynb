{
 "cells": [
  {
   "cell_type": "code",
   "execution_count": null,
   "metadata": {
    "id": "fVT8T9Jp4R1e"
   },
   "outputs": [],
   "source": [
    "#importing libraries\n",
    "import numpy as np\n",
    "import pandas as pd \n",
    "import matplotlib.pyplot as plt\n",
    "import tensorflow as tf"
   ]
  },
  {
   "cell_type": "code",
   "execution_count": null,
   "metadata": {
    "id": "FOxPTJsY4hSG"
   },
   "outputs": [],
   "source": [
    "from tensorflow import keras\n",
    "from keras.datasets import mnist"
   ]
  },
  {
   "cell_type": "code",
   "execution_count": null,
   "metadata": {
    "colab": {
     "base_uri": "https://localhost:8080/"
    },
    "executionInfo": {
     "elapsed": 853,
     "status": "ok",
     "timestamp": 1636540475269,
     "user": {
      "displayName": "Akash Narnaware",
      "photoUrl": "https://lh3.googleusercontent.com/a/default-user=s64",
      "userId": "05088483740079942148"
     },
     "user_tz": -330
    },
    "id": "cbzHXsY04uxs",
    "outputId": "44172ffe-5b8f-4d93-d225-fec90b429c51"
   },
   "outputs": [
    {
     "name": "stdout",
     "output_type": "stream",
     "text": [
      "Downloading data from https://storage.googleapis.com/tensorflow/tf-keras-datasets/mnist.npz\n",
      "11493376/11490434 [==============================] - 0s 0us/step\n",
      "11501568/11490434 [==============================] - 0s 0us/step\n"
     ]
    }
   ],
   "source": [
    "(x_train,y_train),(x_test,y_test)=mnist.load_data()"
   ]
  },
  {
   "cell_type": "code",
   "execution_count": null,
   "metadata": {
    "colab": {
     "base_uri": "https://localhost:8080/"
    },
    "executionInfo": {
     "elapsed": 42,
     "status": "ok",
     "timestamp": 1636540475271,
     "user": {
      "displayName": "Akash Narnaware",
      "photoUrl": "https://lh3.googleusercontent.com/a/default-user=s64",
      "userId": "05088483740079942148"
     },
     "user_tz": -330
    },
    "id": "ig0Oxxw86vLk",
    "outputId": "aef0c2f2-c7cd-485b-be68-3b8c4e50215b"
   },
   "outputs": [
    {
     "name": "stdout",
     "output_type": "stream",
     "text": [
      "(60000, 28, 28) (60000,)\n",
      "(10000, 28, 28) (10000,)\n"
     ]
    }
   ],
   "source": [
    "print(x_train.shape, y_train.shape)\n",
    "print(x_test.shape, y_test.shape)\n"
   ]
  },
  {
   "cell_type": "code",
   "execution_count": null,
   "metadata": {
    "colab": {
     "base_uri": "https://localhost:8080/",
     "height": 282
    },
    "executionInfo": {
     "elapsed": 39,
     "status": "ok",
     "timestamp": 1636540475274,
     "user": {
      "displayName": "Akash Narnaware",
      "photoUrl": "https://lh3.googleusercontent.com/a/default-user=s64",
      "userId": "05088483740079942148"
     },
     "user_tz": -330
    },
    "id": "ugHChyQro1qx",
    "outputId": "9257aaf9-f26b-410b-e18c-be7c5dbcf42e"
   },
   "outputs": [
    {
     "data": {
      "image/png": "[encoded data removed]",
      "text/plain": [
       "<Figure size 432x288 with 1 Axes>"
      ]
     },
     "metadata": {
      "needs_background": "light"
     },
     "output_type": "display_data"
    },
    {
     "name": "stdout",
     "output_type": "stream",
     "text": [
      "Output : 5\n"
     ]
    }
   ],
   "source": [
    "i = 20000\n",
    "plt.imshow(x_train[i],cmap='gray')\n",
    "plt.show()\n",
    "print(f\"Output : {y_train[i]}\")"
   ]
  },
  {
   "cell_type": "code",
   "execution_count": null,
   "metadata": {
    "colab": {
     "base_uri": "https://localhost:8080/"
    },
    "executionInfo": {
     "elapsed": 34,
     "status": "ok",
     "timestamp": 1636540475275,
     "user": {
      "displayName": "Akash Narnaware",
      "photoUrl": "https://lh3.googleusercontent.com/a/default-user=s64",
      "userId": "05088483740079942148"
     },
     "user_tz": -330
    },
    "id": "KBgiydxZ6vVv",
    "outputId": "49cba02d-b341-44d6-8d42-006e5b39d035"
   },
   "outputs": [
    {
     "data": {
      "text/plain": [
       "array([5, 0, 4, ..., 5, 6, 8], dtype=uint8)"
      ]
     },
     "execution_count": 7,
     "metadata": {},
     "output_type": "execute_result"
    }
   ],
   "source": [
    "y_train"
   ]
  },
  {
   "cell_type": "code",
   "execution_count": null,
   "metadata": {
    "id": "Wobos-Yp62jn"
   },
   "outputs": [],
   "source": [
    "#normalisation of data\n",
    "x_train=x_train/255\n",
    "x_test=x_test/255"
   ]
  },
  {
   "cell_type": "code",
   "execution_count": null,
   "metadata": {
    "colab": {
     "base_uri": "https://localhost:8080/"
    },
    "executionInfo": {
     "elapsed": 30,
     "status": "ok",
     "timestamp": 1636540475278,
     "user": {
      "displayName": "Akash Narnaware",
      "photoUrl": "https://lh3.googleusercontent.com/a/default-user=s64",
      "userId": "05088483740079942148"
     },
     "user_tz": -330
    },
    "id": "mopkSptW7ogm",
    "outputId": "7ee9b308-e949-4751-8800-49884b8c083f"
   },
   "outputs": [
    {
     "data": {
      "text/plain": [
       "(28, 28)"
      ]
     },
     "execution_count": 9,
     "metadata": {},
     "output_type": "execute_result"
    }
   ],
   "source": [
    "x_train[0].shape"
   ]
  },
  {
   "cell_type": "code",
   "execution_count": null,
   "metadata": {
    "id": "yBwt_fI_71iq"
   },
   "outputs": [],
   "source": [
    "#adding neurons in layers\n",
    "\n",
    "model = keras.models.Sequential()   \n",
    "model.add(keras.layers.Flatten(input_shape=x_train[0].shape))   \n",
    "model.add(keras.layers.Dense(527,activation = 'relu'))  #hidden layers\n",
    "model.add(keras.layers.Dense(10,activation = 'softmax')) #output layer\n"
   ]
  },
  {
   "cell_type": "code",
   "execution_count": null,
   "metadata": {
    "colab": {
     "base_uri": "https://localhost:8080/"
    },
    "executionInfo": {
     "elapsed": 17,
     "status": "ok",
     "timestamp": 1636540475749,
     "user": {
      "displayName": "Akash Narnaware",
      "photoUrl": "https://lh3.googleusercontent.com/a/default-user=s64",
      "userId": "05088483740079942148"
     },
     "user_tz": -330
    },
    "id": "FZjfesu4868T",
    "outputId": "c0932907-70ea-4b15-dc66-16a235fd6198"
   },
   "outputs": [
    {
     "name": "stdout",
     "output_type": "stream",
     "text": [
      "Model: \"sequential\"\n",
      "_________________________________________________________________\n",
      " Layer (type)                Output Shape              Param #   \n",
      "=================================================================\n",
      " flatten (Flatten)           (None, 784)               0         \n",
      "                                                                 \n",
      " dense (Dense)               (None, 527)               413695    \n",
      "                                                                 \n",
      " dense_1 (Dense)             (None, 10)                5280      \n",
      "                                                                 \n",
      "=================================================================\n",
      "Total params: 418,975\n",
      "Trainable params: 418,975\n",
      "Non-trainable params: 0\n",
      "_________________________________________________________________\n"
     ]
    }
   ],
   "source": [
    "model.summary()"
   ]
  },
  {
   "cell_type": "code",
   "execution_count": null,
   "metadata": {
    "id": "8WYRF1L28-fn"
   },
   "outputs": [],
   "source": [
    "model.compile(optimizer = 'adam', loss = 'sparse_categorical_crossentropy',metrics = ['accuracy']  )"
   ]
  },
  {
   "cell_type": "code",
   "execution_count": null,
   "metadata": {
    "colab": {
     "base_uri": "https://localhost:8080/"
    },
    "executionInfo": {
     "elapsed": 202760,
     "status": "ok",
     "timestamp": 1636540678500,
     "user": {
      "displayName": "Akash Narnaware",
      "photoUrl": "https://lh3.googleusercontent.com/a/default-user=s64",
      "userId": "05088483740079942148"
     },
     "user_tz": -330
    },
    "id": "1FexBd5Z9C25",
    "outputId": "f5b97dae-31a6-4417-f4ad-4da46778eece"
   },
   "outputs": [
    {
     "name": "stdout",
     "output_type": "stream",
     "text": [
      "Epoch 1/20\n",
      "1875/1875 [==============================] - 9s 4ms/step - loss: 0.2002 - accuracy: 0.9405\n",
      "Epoch 2/20\n",
      "1875/1875 [==============================] - 9s 5ms/step - loss: 0.0805 - accuracy: 0.9755\n",
      "Epoch 3/20\n",
      "1875/1875 [==============================] - 8s 4ms/step - loss: 0.0532 - accuracy: 0.9832\n",
      "Epoch 4/20\n",
      "1875/1875 [==============================] - 9s 5ms/step - loss: 0.0364 - accuracy: 0.9883\n",
      "Epoch 5/20\n",
      "1875/1875 [==============================] - 8s 4ms/step - loss: 0.0275 - accuracy: 0.9910\n",
      "Epoch 6/20\n",
      "1875/1875 [==============================] - 8s 4ms/step - loss: 0.0219 - accuracy: 0.9928\n",
      "Epoch 7/20\n",
      "1875/1875 [==============================] - 8s 4ms/step - loss: 0.0167 - accuracy: 0.9945\n",
      "Epoch 8/20\n",
      "1875/1875 [==============================] - 8s 4ms/step - loss: 0.0146 - accuracy: 0.9950\n",
      "Epoch 9/20\n",
      "1875/1875 [==============================] - 8s 4ms/step - loss: 0.0135 - accuracy: 0.9951\n",
      "Epoch 10/20\n",
      "1875/1875 [==============================] - 8s 4ms/step - loss: 0.0113 - accuracy: 0.9966\n",
      "Epoch 11/20\n",
      "1875/1875 [==============================] - 8s 4ms/step - loss: 0.0105 - accuracy: 0.9966\n",
      "Epoch 12/20\n",
      "1875/1875 [==============================] - 8s 4ms/step - loss: 0.0092 - accuracy: 0.9969\n",
      "Epoch 13/20\n",
      "1875/1875 [==============================] - 8s 4ms/step - loss: 0.0077 - accuracy: 0.9975\n",
      "Epoch 14/20\n",
      "1875/1875 [==============================] - 8s 4ms/step - loss: 0.0083 - accuracy: 0.9970\n",
      "Epoch 15/20\n",
      "1875/1875 [==============================] - 8s 4ms/step - loss: 0.0068 - accuracy: 0.9979\n",
      "Epoch 16/20\n",
      "1875/1875 [==============================] - 8s 5ms/step - loss: 0.0063 - accuracy: 0.9978\n",
      "Epoch 17/20\n",
      "1875/1875 [==============================] - 8s 4ms/step - loss: 0.0072 - accuracy: 0.9974\n",
      "Epoch 18/20\n",
      "1875/1875 [==============================] - 8s 4ms/step - loss: 0.0061 - accuracy: 0.9980\n",
      "Epoch 19/20\n",
      "1875/1875 [==============================] - 8s 4ms/step - loss: 0.0072 - accuracy: 0.9975\n",
      "Epoch 20/20\n",
      "1875/1875 [==============================] - 8s 5ms/step - loss: 0.0044 - accuracy: 0.9989\n"
     ]
    },
    {
     "data": {
      "text/plain": [
       "<keras.callbacks.History at 0x7f34b6583f10>"
      ]
     },
     "execution_count": 13,
     "metadata": {},
     "output_type": "execute_result"
    }
   ],
   "source": [
    "model.fit(x_train,y_train, epochs = 20) #fitting a neural network model "
   ]
  },
  {
   "cell_type": "code",
   "execution_count": null,
   "metadata": {
    "colab": {
     "base_uri": "https://localhost:8080/"
    },
    "executionInfo": {
     "elapsed": 2410,
     "status": "ok",
     "timestamp": 1636540680902,
     "user": {
      "displayName": "Akash Narnaware",
      "photoUrl": "https://lh3.googleusercontent.com/a/default-user=s64",
      "userId": "05088483740079942148"
     },
     "user_tz": -330
    },
    "id": "RdNBCMaT9awZ",
    "outputId": "351fba05-2348-402a-f06b-8c195ff40f37"
   },
   "outputs": [
    {
     "data": {
      "text/plain": [
       "array([7, 2, 1, ..., 4, 5, 6])"
      ]
     },
     "execution_count": 14,
     "metadata": {},
     "output_type": "execute_result"
    }
   ],
   "source": [
    "#creationg model\n",
    "y_pred = model.predict(x_test)\n",
    "y_pred = np.argmax(y_pred,axis = 1)  #argmax gives the index of the highest probability \n",
    "y_pred"
   ]
  },
  {
   "cell_type": "code",
   "execution_count": null,
   "metadata": {
    "colab": {
     "base_uri": "https://localhost:8080/"
    },
    "executionInfo": {
     "elapsed": 732,
     "status": "ok",
     "timestamp": 1636540681628,
     "user": {
      "displayName": "Akash Narnaware",
      "photoUrl": "https://lh3.googleusercontent.com/a/default-user=s64",
      "userId": "05088483740079942148"
     },
     "user_tz": -330
    },
    "id": "53g1FV_796Ba",
    "outputId": "dc3a85ed-526b-41d4-f2e0-988ea14ec11a"
   },
   "outputs": [
    {
     "data": {
      "text/plain": [
       "0.9819"
      ]
     },
     "execution_count": 15,
     "metadata": {},
     "output_type": "execute_result"
    }
   ],
   "source": [
    "#predicting values\n",
    "from sklearn.metrics import accuracy_score\n",
    "accuracy_score(y_pred,y_test)"
   ]
  },
  {
   "cell_type": "code",
   "execution_count": null,
   "metadata": {
    "id": "aP2C27-D-Cfb"
   },
   "outputs": [],
   "source": [
    "model.save('digit_recog.hdf5')  #saving the model"
   ]
  },
  {
   "cell_type": "code",
   "execution_count": null,
   "metadata": {
    "id": "WzEoeDuy-fXP"
   },
   "outputs": [],
   "source": []
  }
 ],
 "metadata": {
  "colab": {
   "collapsed_sections": [],
   "name": "AKASH AI MINOR  PROJECT",
   "provenance": []
  },
  "kernelspec": {
   "display_name": "Python 3",
   "language": "python",
   "name": "python3"
  },
  "language_info": {
   "codemirror_mode": {
    "name": "ipython",
    "version": 3
   },
   "file_extension": ".py",
   "mimetype": "text/x-python",
   "name": "python",
   "nbconvert_exporter": "python",
   "pygments_lexer": "ipython3",
   "version": "3.8.8"
  }
 },
 "nbformat": 4,
 "nbformat_minor": 1
}
